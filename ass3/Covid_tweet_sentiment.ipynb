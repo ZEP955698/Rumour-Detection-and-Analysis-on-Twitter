{
 "cells": [
  {
   "cell_type": "code",
   "execution_count": 1,
   "id": "6042bff1",
   "metadata": {},
   "outputs": [],
   "source": [
    "import nltk\n",
    "from nltk.tokenize import TweetTokenizer\n",
    "from nltk.corpus import stopwords\n",
    "from nltk.corpus import wordnet\n",
    "import re\n",
    "import json\n",
    "import seaborn as sns\n",
    "import matplotlib.pyplot as plt\n",
    "import nltk\n",
    "#from wordcloud import WordCloud\n",
    "import pandas as pd\n",
    "import numpy as np\n",
    "from datetime import datetime\n",
    "import os\n",
    "import string\n",
    "from nltk.probability import FreqDist"
   ]
  },
  {
   "cell_type": "code",
   "execution_count": 2,
   "id": "d2e17b32",
   "metadata": {},
   "outputs": [],
   "source": [
    "def read_txt_data(filename):\n",
    "    with open(filename) as f:\n",
    "        return [line.rstrip().split(\",\") for line in f]\n",
    "    \n",
    "def read_txt_label(filename):\n",
    "    with open(filename) as f:\n",
    "        return [line.rstrip() for line in f]"
   ]
  },
  {
   "cell_type": "code",
   "execution_count": 3,
   "id": "9c85184f",
   "metadata": {},
   "outputs": [],
   "source": [
    "covid_data = read_txt_data('./covid.data.txt')\n",
    "covid_label = read_txt_label('./covid_label.txt')\n"
   ]
  },
  {
   "cell_type": "code",
   "execution_count": 4,
   "id": "0ba429a4",
   "metadata": {},
   "outputs": [],
   "source": [
    "def preprocess_data(data):\n",
    "    \n",
    "    # date: year, month, day\n",
    "    data['datetime_obj'] = datetime.strptime(data['created_at'], '%Y-%m-%dT%H:%M:%S.%fZ')\n",
    "    \n",
    "    return {\n",
    "        'id': data['id'],\n",
    "        #'year': int(data['datetime_obj'].year), \n",
    "        'month': int(data['datetime_obj'].month),\n",
    "        'text': data['text'], \n",
    "        #'lang': data['lang'],\n",
    "        'retweet_count': data['public_metrics']['retweet_count'],\n",
    "        #'verified': int(data['user']['verified']),\n",
    "        #'followers_count': data['user']['followers_count'],\n",
    "        'favorite_count': data['public_metrics']['like_count'],\n",
    "        'reply_count': data['public_metrics']['reply_count']\n",
    "        #'location': data['user']['location']\n",
    "    }\n",
    "\n",
    "def preprocess_user(data):\n",
    "    return {\n",
    "        #'id': data['id'],\n",
    "        #'year': int(data['datetime_obj'].year), \n",
    "        #'month': int(data['datetime_obj'].month),\n",
    "        #'text': data['text'], \n",
    "        #'lang': data['lang'],\n",
    "        #'retweet_count': data['user']['retweet_count'],\n",
    "        'verified': int(data['user']['verified']),\n",
    "        'followers_count': data['user']['followers_count'],\n",
    "        #'favorite_count': data['public_metrics']['like_count'],\n",
    "        'location': data['user']['location']\n",
    "    }"
   ]
  },
  {
   "cell_type": "code",
   "execution_count": 5,
   "id": "5c1c231d",
   "metadata": {},
   "outputs": [],
   "source": [
    "# 先做15956 的covid tweet 这个是feed给分类器的 \n",
    "# include text, created_at, like_count, retweet_count\n",
    "# 还需要include location, follower count\n",
    "# check duplicate tweet, combine 墨学 和自己的covid tweet\n",
    "filename_tweets= './covid_object/{}.json' # covid_object contains user info\n",
    "\n",
    "rumor_list = list() # store rumor tweets ids\n",
    "nonrumor_list = list() # store non-rumor tweets ids\n",
    "r_reply = list() # store the id of rumor replies\n",
    "nonr_reply = list() # store the id of nonrumor replies\n",
    "counter = 0\n",
    "for data in covid_data:\n",
    "    if not os.path.exists(filename_tweets.format(data[0])):\n",
    "        continue\n",
    "    if covid_label[counter] == '1':\n",
    "        rumor_list.append(data[0])\n",
    "        for d in data[1:]:\n",
    "            r_reply.append(d)\n",
    "    else:\n",
    "        nonrumor_list.append(data[0])\n",
    "        for d in data[1:]:\n",
    "            nonr_reply.append(d)\n",
    "    counter += 1\n",
    "\n",
    "#rumor_df = pd.DataFrame(rumor_list)\n",
    "#nonrumor_df = pd.DataFrame(nonrumor_list)"
   ]
  },
  {
   "cell_type": "code",
   "execution_count": 9,
   "id": "cab33262",
   "metadata": {},
   "outputs": [],
   "source": [
    "# 分rumor的reply 和nonrumor 的reply \n",
    "filename = './analysis_tweet/{}.json' # analysis_tweet contains full text tweets\n",
    "rumor_reply = list()\n",
    "nonrumor_reply = list()\n",
    "\n",
    "# read tweets of rumor replies\n",
    "for data in r_reply:\n",
    "    if not os.path.exists(filename.format(data)):\n",
    "        continue\n",
    "    rumor_reply.append(preprocess_data(json.load(open(filename.format(data)))))\n",
    "\n",
    "for data in nonr_reply:\n",
    "    if not os.path.exists(filename.format(data)):\n",
    "        continue\n",
    "    nonrumor_reply.append(preprocess_data(json.load(open(filename.format(data)))))\n"
   ]
  },
  {
   "cell_type": "code",
   "execution_count": 11,
   "id": "edb6b07e",
   "metadata": {},
   "outputs": [],
   "source": [
    "rumor_reply_df = pd.DataFrame(rumor_reply)\n",
    "nonrumor_reply_df = pd.DataFrame(nonrumor_reply)"
   ]
  },
  {
   "cell_type": "code",
   "execution_count": 12,
   "id": "6af41989",
   "metadata": {},
   "outputs": [],
   "source": [
    "def preprocess(text):\n",
    "    new_text = []\n",
    "    text = text.replace('\\n', ' ') # replace newline with whitespace\n",
    "    for t in text.split(\" \"):\n",
    "        if not t.startswith('@') and not t.startswith('http'):\n",
    "            if t.startswith('#'):\n",
    "                t = t[1:]\n",
    "            new_text.append(t)\n",
    "    return \" \".join(new_text)\n",
    "\n",
    "rumor_text = [preprocess(x) for x in rumor_reply_df['text']] # stores rumor text without https, @, and hashtags\n",
    "nonrumor_text = [preprocess(x) for x in nonrumor_reply_df['text']] # stores nonrumor text without https, @, and hashtags\n"
   ]
  },
  {
   "cell_type": "code",
   "execution_count": 14,
   "id": "a5d3d2d5",
   "metadata": {},
   "outputs": [
    {
     "name": "stderr",
     "output_type": "stream",
     "text": [
      "[nltk_data] Downloading package vader_lexicon to\n",
      "[nltk_data]     C:\\Users\\Win10\\AppData\\Roaming\\nltk_data...\n"
     ]
    },
    {
     "data": {
      "text/plain": [
       "True"
      ]
     },
     "execution_count": 14,
     "metadata": {},
     "output_type": "execute_result"
    }
   ],
   "source": [
    "import nltk\n",
    "nltk.download('vader_lexicon')"
   ]
  },
  {
   "cell_type": "code",
   "execution_count": 15,
   "id": "1846bfa3",
   "metadata": {},
   "outputs": [],
   "source": [
    "from nltk.sentiment.vader import SentimentIntensityAnalyzer\n",
    "analyzer = SentimentIntensityAnalyzer()"
   ]
  },
  {
   "cell_type": "code",
   "execution_count": 17,
   "id": "e017a842",
   "metadata": {},
   "outputs": [],
   "source": [
    "# Sentiment analysis of rumor and nonrumor tweets\n",
    "rumor_sent = list()\n",
    "for tweet in rumor_text:\n",
    "    ps = analyzer.polarity_scores(tweet)\n",
    "    rumor_sent.append({'text':tweet, 'compound':ps['compound']})\n",
    "\n",
    "nonrumor_sent = list()\n",
    "for tweet in nonrumor_text:\n",
    "    ps = analyzer.polarity_scores(tweet)\n",
    "    nonrumor_sent.append({'text':tweet, 'compound':ps['compound']})"
   ]
  },
  {
   "cell_type": "code",
   "execution_count": 19,
   "id": "c5ec3cae",
   "metadata": {},
   "outputs": [],
   "source": [
    "rumor_sent_df = pd.DataFrame(rumor_sent)\n",
    "nonrumor_sent_df = pd.DataFrame(nonrumor_sent)"
   ]
  },
  {
   "cell_type": "code",
   "execution_count": 20,
   "id": "b73d2c7a",
   "metadata": {},
   "outputs": [
    {
     "data": {
      "image/png": "[encoded data removed]",
      "text/plain": [
       "<Figure size 432x288 with 1 Axes>"
      ]
     },
     "metadata": {},
     "output_type": "display_data"
    }
   ],
   "source": [
    "# draw pie chart for rumor sentiment\n",
    "rumor_pos = 0\n",
    "rumor_neg = 0\n",
    "rumor_neu = 0\n",
    "for i in rumor_sent_df['compound']:\n",
    "    if i > 0:\n",
    "        rumor_pos +=1\n",
    "    elif i < 0:\n",
    "        rumor_neg += 1\n",
    "    else:\n",
    "        rumor_neu += 1\n",
    "        \n",
    "compounds = np.array([rumor_pos, rumor_neg, rumor_neu])\n",
    "labels = ['positive', 'negative', 'neu']\n",
    "plt.pie(compounds, labels = labels)\n",
    "plt.title(\"Rumor sentiments\")\n",
    "plt.show()"
   ]
  },
  {
   "cell_type": "code",
   "execution_count": 21,
   "id": "75d5264b",
   "metadata": {},
   "outputs": [
    {
     "name": "stdout",
     "output_type": "stream",
     "text": [
      "Rumor sentiments\n",
      "[13563 24968  7584]\n"
     ]
    }
   ],
   "source": [
    "print(\"Rumor sentiments\")\n",
    "print(compounds)"
   ]
  },
  {
   "cell_type": "code",
   "execution_count": 22,
   "id": "6f2105b4",
   "metadata": {},
   "outputs": [
    {
     "data": {
      "image/png": "[encoded data removed]",
      "text/plain": [
       "<Figure size 432x288 with 1 Axes>"
      ]
     },
     "metadata": {},
     "output_type": "display_data"
    }
   ],
   "source": [
    "# draw pie chart for nonrumor sentiment\n",
    "nonrumor_pos = 0\n",
    "nonrumor_neg = 0\n",
    "nonrumor_neu = 0\n",
    "for i in nonrumor_sent_df['compound']:\n",
    "    if i > 0:\n",
    "        nonrumor_pos +=1\n",
    "    elif i < 0:\n",
    "        nonrumor_neg += 1\n",
    "    else:\n",
    "        nonrumor_neu += 1\n",
    "        \n",
    "compounds = np.array([nonrumor_pos, nonrumor_neg, nonrumor_neu])\n",
    "labels = ['positive', 'negative', 'neu']\n",
    "plt.pie(compounds, labels = labels)\n",
    "plt.title(\"Non-Rumor sentiments\")\n",
    "plt.show()"
   ]
  },
  {
   "cell_type": "code",
   "execution_count": 23,
   "id": "3f5ebe01",
   "metadata": {},
   "outputs": [
    {
     "name": "stdout",
     "output_type": "stream",
     "text": [
      "Non-Rumor sentiments\n",
      "[30296 39502 14088]\n"
     ]
    }
   ],
   "source": [
    "print(\"Non-Rumor sentiments\")\n",
    "print(compounds)"
   ]
  },
  {
   "cell_type": "code",
   "execution_count": null,
   "id": "25bd5b35",
   "metadata": {},
   "outputs": [],
   "source": []
  }
 ],
 "metadata": {
  "kernelspec": {
   "display_name": "Python 3 (ipykernel)",
   "language": "python",
   "name": "python3"
  },
  "language_info": {
   "codemirror_mode": {
    "name": "ipython",
    "version": 3
   },
   "file_extension": ".py",
   "mimetype": "text/x-python",
   "name": "python",
   "nbconvert_exporter": "python",
   "pygments_lexer": "ipython3",
   "version": "3.9.7"
  }
 },
 "nbformat": 4,
 "nbformat_minor": 5
}
