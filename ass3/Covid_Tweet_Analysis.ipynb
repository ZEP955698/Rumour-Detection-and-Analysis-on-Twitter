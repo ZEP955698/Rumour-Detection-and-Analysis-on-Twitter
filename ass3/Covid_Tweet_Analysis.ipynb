{
 "cells": [
  {
   "cell_type": "code",
   "execution_count": 2,
   "id": "270bb3ca",
   "metadata": {},
   "outputs": [],
   "source": [
    "import nltk\n",
    "from nltk.tokenize import TweetTokenizer\n",
    "from nltk.corpus import stopwords\n",
    "from nltk.corpus import wordnet\n",
    "import re\n",
    "import json\n",
    "import seaborn as sns\n",
    "import matplotlib.pyplot as plt\n",
    "import nltk\n",
    "#from wordcloud import WordCloud\n",
    "import pandas as pd\n",
    "import numpy as np\n",
    "from datetime import datetime\n",
    "import os\n",
    "import string\n",
    "from nltk.probability import FreqDist"
   ]
  },
  {
   "cell_type": "markdown",
   "id": "470495d5",
   "metadata": {},
   "source": [
    "## Read in Covid Tweets"
   ]
  },
  {
   "cell_type": "code",
   "execution_count": 3,
   "id": "dbc95fbe",
   "metadata": {},
   "outputs": [],
   "source": [
    "def read_txt_data(filename):\n",
    "    with open(filename) as f:\n",
    "        return [line.rstrip().split(\",\") for line in f]\n",
    "    \n",
    "def read_txt_label(filename):\n",
    "    with open(filename) as f:\n",
    "        return [line.rstrip() for line in f]\n"
   ]
  },
  {
   "cell_type": "code",
   "execution_count": 4,
   "id": "e3d082e1",
   "metadata": {},
   "outputs": [],
   "source": [
    "covid_data = read_txt_data('./covid.data.txt')\n",
    "covid_label = read_txt_label('./covid_label.txt')\n"
   ]
  },
  {
   "cell_type": "code",
   "execution_count": 5,
   "id": "307dec3a",
   "metadata": {},
   "outputs": [],
   "source": [
    "def preprocess_data(data):\n",
    "    \n",
    "    # date: year, month, day\n",
    "    data['datetime_obj'] = datetime.strptime(data['created_at'], '%Y-%m-%dT%H:%M:%S.%fZ')\n",
    "    \n",
    "    return {\n",
    "        'id': data['id'],\n",
    "        #'year': int(data['datetime_obj'].year), \n",
    "        'month': int(data['datetime_obj'].month),\n",
    "        'text': data['text'], \n",
    "        #'lang': data['lang'],\n",
    "        'retweet_count': data['public_metrics']['retweet_count'],\n",
    "        #'verified': int(data['user']['verified']),\n",
    "        #'followers_count': data['user']['followers_count'],\n",
    "        'favorite_count': data['public_metrics']['like_count'],\n",
    "        'reply_count': data['public_metrics']['reply_count']\n",
    "        #'location': data['user']['location']\n",
    "    }\n",
    "\n",
    "def preprocess_user(data):\n",
    "    return {\n",
    "        #'id': data['id'],\n",
    "        #'year': int(data['datetime_obj'].year), \n",
    "        #'month': int(data['datetime_obj'].month),\n",
    "        #'text': data['text'], \n",
    "        #'lang': data['lang'],\n",
    "        #'retweet_count': data['user']['retweet_count'],\n",
    "        'verified': int(data['user']['verified']),\n",
    "        'followers_count': data['user']['followers_count'],\n",
    "        #'favorite_count': data['public_metrics']['like_count'],\n",
    "        'location': data['user']['location']\n",
    "    }"
   ]
  },
  {
   "cell_type": "code",
   "execution_count": 6,
   "id": "89d9de05",
   "metadata": {},
   "outputs": [],
   "source": [
    "# 先做15956 的covid tweet 这个是feed给分类器的 \n",
    "# include text, created_at, like_count, retweet_count\n",
    "# 还需要include location, follower count\n",
    "# check duplicate tweet, combine 墨学 和自己的covid tweet\n",
    "filename_tweets= './covid_object/{}.json' # covid_object contains user info\n",
    "\n",
    "rumor_list = list() # store rumor tweets ids\n",
    "nonrumor_list = list() # store non-rumor tweets ids\n",
    "r_reply = list() # store the id of rumor replies\n",
    "nonr_reply = list() # store the id of nonrumor replies\n",
    "counter = 0\n",
    "for data in covid_data:\n",
    "    if not os.path.exists(filename_tweets.format(data[0])):\n",
    "        continue\n",
    "    if covid_label[counter] == '1':\n",
    "        rumor_list.append(data[0])\n",
    "        for d in data[1:]:\n",
    "            r_reply.append(d)\n",
    "    else:\n",
    "        nonrumor_list.append(data[0])\n",
    "        for d in data[1:]:\n",
    "            nonr_reply.append(d)\n",
    "    counter += 1\n",
    "\n",
    "#rumor_df = pd.DataFrame(rumor_list)\n",
    "#nonrumor_df = pd.DataFrame(nonrumor_list)"
   ]
  },
  {
   "cell_type": "code",
   "execution_count": 7,
   "id": "3340afa0",
   "metadata": {},
   "outputs": [],
   "source": [
    "# store rumor and non_rumor text, date, and some public_metrics\n",
    "# store rumor and non_rumor users info as well\n",
    "\n",
    "filename = './analysis_tweet/{}.json' # analysis_tweet contains full text tweets\n",
    "rumor = list()\n",
    "nonrumor = list()\n",
    "\n",
    "for data in rumor_list:\n",
    "    if not os.path.exists(filename.format(data)):\n",
    "        continue\n",
    "    x = preprocess_data(json.load(open(filename.format(data))))\n",
    "    y = preprocess_user(json.load(open(filename_tweets.format(data))))\n",
    "    x.update(y)\n",
    "    rumor.append(x)\n",
    "    \n",
    "for data in nonrumor_list:\n",
    "    if not os.path.exists(filename.format(data)):\n",
    "        continue\n",
    "    x = preprocess_data(json.load(open(filename.format(data))))\n",
    "    y = preprocess_user(json.load(open(filename_tweets.format(data))))\n",
    "    x.update(y)\n",
    "    nonrumor.append(x)\n",
    "\n",
    "# Store a dataframe of rumor and nonrumor\n",
    "rumor_df = pd.DataFrame(rumor)\n",
    "nonrumor_df = pd.DataFrame(nonrumor)"
   ]
  },
  {
   "cell_type": "code",
   "execution_count": 8,
   "id": "facf4b9c",
   "metadata": {},
   "outputs": [
    {
     "data": {
      "text/html": [
       "<div>\n",
       "<style scoped>\n",
       "    .dataframe tbody tr th:only-of-type {\n",
       "        vertical-align: middle;\n",
       "    }\n",
       "\n",
       "    .dataframe tbody tr th {\n",
       "        vertical-align: top;\n",
       "    }\n",
       "\n",
       "    .dataframe thead th {\n",
       "        text-align: right;\n",
       "    }\n",
       "</style>\n",
       "<table border=\"1\" class=\"dataframe\">\n",
       "  <thead>\n",
       "    <tr style=\"text-align: right;\">\n",
       "      <th></th>\n",
       "      <th>id</th>\n",
       "      <th>month</th>\n",
       "      <th>text</th>\n",
       "      <th>retweet_count</th>\n",
       "      <th>favorite_count</th>\n",
       "      <th>reply_count</th>\n",
       "      <th>verified</th>\n",
       "      <th>followers_count</th>\n",
       "      <th>location</th>\n",
       "    </tr>\n",
       "  </thead>\n",
       "  <tbody>\n",
       "    <tr>\n",
       "      <th>0</th>\n",
       "      <td>1272262651100434433</td>\n",
       "      <td>6</td>\n",
       "      <td>According to the New York Times, Warner Bros. ...</td>\n",
       "      <td>26</td>\n",
       "      <td>260</td>\n",
       "      <td>11</td>\n",
       "      <td>0</td>\n",
       "      <td>44984</td>\n",
       "      <td>Worldwide</td>\n",
       "    </tr>\n",
       "    <tr>\n",
       "      <th>1</th>\n",
       "      <td>1287153210990395392</td>\n",
       "      <td>7</td>\n",
       "      <td>Hurricane Hanna has made landfall in Texas.\\n\\...</td>\n",
       "      <td>479</td>\n",
       "      <td>583</td>\n",
       "      <td>64</td>\n",
       "      <td>1</td>\n",
       "      <td>296757</td>\n",
       "      <td>Austin, Texas</td>\n",
       "    </tr>\n",
       "    <tr>\n",
       "      <th>2</th>\n",
       "      <td>1278703879828303877</td>\n",
       "      <td>7</td>\n",
       "      <td>DISTURBING: Alabama officials say some student...</td>\n",
       "      <td>256</td>\n",
       "      <td>477</td>\n",
       "      <td>167</td>\n",
       "      <td>1</td>\n",
       "      <td>1174870</td>\n",
       "      <td></td>\n",
       "    </tr>\n",
       "    <tr>\n",
       "      <th>3</th>\n",
       "      <td>1249421782630772746</td>\n",
       "      <td>4</td>\n",
       "      <td>Today I’m thinking about the families across o...</td>\n",
       "      <td>3374</td>\n",
       "      <td>23802</td>\n",
       "      <td>372</td>\n",
       "      <td>1</td>\n",
       "      <td>19661276</td>\n",
       "      <td>Washington, DC</td>\n",
       "    </tr>\n",
       "    <tr>\n",
       "      <th>4</th>\n",
       "      <td>1278159404324405248</td>\n",
       "      <td>7</td>\n",
       "      <td>Major League Soccer COVID-19 Testing Update - ...</td>\n",
       "      <td>26</td>\n",
       "      <td>52</td>\n",
       "      <td>6</td>\n",
       "      <td>1</td>\n",
       "      <td>7687</td>\n",
       "      <td>U.S. and Canada</td>\n",
       "    </tr>\n",
       "  </tbody>\n",
       "</table>\n",
       "</div>"
      ],
      "text/plain": [
       "                    id  month  \\\n",
       "0  1272262651100434433      6   \n",
       "1  1287153210990395392      7   \n",
       "2  1278703879828303877      7   \n",
       "3  1249421782630772746      4   \n",
       "4  1278159404324405248      7   \n",
       "\n",
       "                                                text  retweet_count  \\\n",
       "0  According to the New York Times, Warner Bros. ...             26   \n",
       "1  Hurricane Hanna has made landfall in Texas.\\n\\...            479   \n",
       "2  DISTURBING: Alabama officials say some student...            256   \n",
       "3  Today I’m thinking about the families across o...           3374   \n",
       "4  Major League Soccer COVID-19 Testing Update - ...             26   \n",
       "\n",
       "   favorite_count  reply_count  verified  followers_count         location  \n",
       "0             260           11         0            44984        Worldwide  \n",
       "1             583           64         1           296757    Austin, Texas  \n",
       "2             477          167         1          1174870                   \n",
       "3           23802          372         1         19661276   Washington, DC  \n",
       "4              52            6         1             7687  U.S. and Canada  "
      ]
     },
     "execution_count": 8,
     "metadata": {},
     "output_type": "execute_result"
    }
   ],
   "source": [
    "rumor_df.head()\n",
    "nonrumor_df.head()"
   ]
  },
  {
   "cell_type": "markdown",
   "id": "302b86f0",
   "metadata": {},
   "source": [
    "## User Analysis"
   ]
  },
  {
   "cell_type": "code",
   "execution_count": 32,
   "id": "8e93139a",
   "metadata": {},
   "outputs": [
    {
     "data": {
      "text/plain": [
       "array([[<AxesSubplot:title={'center':'verified'}>]], dtype=object)"
      ]
     },
     "execution_count": 32,
     "metadata": {},
     "output_type": "execute_result"
    },
    {
     "data": {
      "image/png": "[encoded data removed]",
      "text/plain": [
       "<Figure size 432x288 with 1 Axes>"
      ]
     },
     "metadata": {
      "needs_background": "light"
     },
     "output_type": "display_data"
    }
   ],
   "source": [
    "rumor_df.hist(column='verified')"
   ]
  },
  {
   "cell_type": "code",
   "execution_count": 33,
   "id": "3f1c0fd4",
   "metadata": {},
   "outputs": [
    {
     "data": {
      "text/plain": [
       "array([[<AxesSubplot:title={'center':'verified'}>]], dtype=object)"
      ]
     },
     "execution_count": 33,
     "metadata": {},
     "output_type": "execute_result"
    },
    {
     "data": {
      "image/png": "[encoded data removed]",
      "text/plain": [
       "<Figure size 432x288 with 1 Axes>"
      ]
     },
     "metadata": {
      "needs_background": "light"
     },
     "output_type": "display_data"
    }
   ],
   "source": [
    "nonrumor_df.hist(column='verified')"
   ]
  },
  {
   "cell_type": "code",
   "execution_count": 34,
   "id": "00025ad9",
   "metadata": {},
   "outputs": [
    {
     "data": {
      "text/plain": [
       "count    4.267000e+03\n",
       "mean     4.608595e+06\n",
       "std      1.141370e+07\n",
       "min      3.800000e+01\n",
       "25%      1.367240e+05\n",
       "50%      7.402150e+05\n",
       "75%      2.825044e+06\n",
       "max      1.317512e+08\n",
       "Name: followers_count, dtype: float64"
      ]
     },
     "execution_count": 34,
     "metadata": {},
     "output_type": "execute_result"
    }
   ],
   "source": [
    "rumor_df['followers_count'].describe()"
   ]
  },
  {
   "cell_type": "code",
   "execution_count": 35,
   "id": "5b7f29df",
   "metadata": {},
   "outputs": [
    {
     "data": {
      "text/plain": [
       "count    1.168800e+04\n",
       "mean     5.004710e+06\n",
       "std      1.249229e+07\n",
       "min      0.000000e+00\n",
       "25%      8.683900e+04\n",
       "50%      5.397540e+05\n",
       "75%      3.515744e+06\n",
       "max      1.317522e+08\n",
       "Name: followers_count, dtype: float64"
      ]
     },
     "execution_count": 35,
     "metadata": {},
     "output_type": "execute_result"
    }
   ],
   "source": [
    "nonrumor_df['followers_count'].describe()"
   ]
  },
  {
   "cell_type": "markdown",
   "id": "2e8ee6f9",
   "metadata": {},
   "source": [
    "## Tweet Length Analysis"
   ]
  },
  {
   "cell_type": "code",
   "execution_count": 9,
   "id": "31eef032",
   "metadata": {},
   "outputs": [],
   "source": [
    "def preprocess(text):\n",
    "    new_text = []\n",
    "    text = text.replace('\\n', ' ') # replace newline with whitespace\n",
    "    for t in text.split(\" \"):\n",
    "        if not t.startswith('@') and not t.startswith('http') and not t.startswith(\"#\"):\n",
    "            new_text.append(t)\n",
    "    return \" \".join(new_text)\n",
    "\n",
    "rumor_text = [preprocess(x) for x in rumor_df['text']] # stores rumor text without https, @, and hashtags\n",
    "nonrumor_text = [preprocess(x) for x in nonrumor_df['text']] # stores nonrumor text without https, @, and hashtags\n",
    "\n",
    "import nltk\n",
    "from nltk.tokenize import TweetTokenizer\n",
    "from nltk.corpus import stopwords\n",
    "\n",
    "tt = TweetTokenizer()\n",
    "\n",
    "# lemmatize\n",
    "lemmatizer = nltk.stem.wordnet.WordNetLemmatizer()\n",
    "\n",
    "def lemmatize(word):\n",
    "    lemma = lemmatizer.lemmatize(word, \"v\")\n",
    "    if lemma == word:\n",
    "        lemma = lemmatizer.lemmatize(word, \"n\")\n",
    "    return lemma\n",
    "\n",
    "stopwords = set(stopwords.words('english')) #note: stopwords are all in lowercase"
   ]
  },
  {
   "cell_type": "code",
   "execution_count": 10,
   "id": "4f23f419",
   "metadata": {},
   "outputs": [],
   "source": [
    "# preprocess text: remove urls, tokenize each tweet, remove stopwords, punctuation, and lowercase words\n",
    "# remove any remaining special characters, lemmatize text\n",
    "\n",
    "rumor_common = list()\n",
    "nonrumor_common = list()\n",
    "\n",
    "for t in rumor_text:\n",
    "    text = list()\n",
    "    for w in tt.tokenize(t): # step1 tokenize\n",
    "        w = str.lower(w) # step2 change to lowercase\n",
    "        if any(c.encode(\"UTF-8\").isalpha() for c in w): # step3 remove if does not contain alphabet\n",
    "            w = lemmatize(w) # lemmatize\n",
    "            if w not in stopwords: # step4 remove stopwords\n",
    "                text.append(w)\n",
    "    rumor_common.append(text)\n",
    "\n",
    "\n",
    "for t in nonrumor_text:\n",
    "    text = list()\n",
    "    for w in tt.tokenize(t): # step1 tokenize\n",
    "        w = str.lower(w) # step2 change to lowercase\n",
    "        if any(c.encode(\"UTF-8\").isalpha() for c in w): # step3 remove if does not contain alphabet\n",
    "            w = lemmatize(w) # lemmatize\n",
    "            if w not in stopwords: # step4 remove stopwords\n",
    "                text.append(w)\n",
    "    nonrumor_common.append(text)\n"
   ]
  },
  {
   "cell_type": "code",
   "execution_count": 14,
   "id": "5f45d00a",
   "metadata": {},
   "outputs": [
    {
     "name": "stdout",
     "output_type": "stream",
     "text": [
      "63329 words total, with a vocabulary size of 7992\n",
      "Max tweet length is 37\n",
      "                 0\n",
      "count  4267.000000\n",
      "mean     14.841575\n",
      "std       7.161143\n",
      "min       0.000000\n",
      "25%       9.000000\n",
      "50%      14.000000\n",
      "75%      21.000000\n",
      "max      37.000000\n",
      "Rumor length\n"
     ]
    }
   ],
   "source": [
    "# examine the full vocabulary of covid rumor tweet corpus\n",
    "all_words = [word for tokens in rumor_common for word in tokens]\n",
    "rumor_tweet_lengths = [len(tokens) for tokens in rumor_common]\n",
    "vocab = sorted(list(set(all_words)))\n",
    "print('{} words total, with a vocabulary size of {}'.format(len(all_words), len(vocab)))\n",
    "print('Max tweet length is {}'.format(max(rumor_tweet_lengths)))\n",
    "# change rumor_tweet_lengths list to dataframe for analysis\n",
    "# rumor_tweet_lengths\n",
    "rumor_lengths = pd.DataFrame(rumor_tweet_lengths)\n",
    "print(rumor_lengths.describe())\n",
    "print(\"Rumor length\")"
   ]
  },
  {
   "cell_type": "code",
   "execution_count": 13,
   "id": "182a621b",
   "metadata": {},
   "outputs": [
    {
     "name": "stdout",
     "output_type": "stream",
     "text": [
      "192293 words total, with a vocabulary size of 17609\n",
      "Max tweet length is 48\n",
      "                  0\n",
      "count  11688.000000\n",
      "mean      16.452173\n",
      "std        6.924357\n",
      "min        0.000000\n",
      "25%       11.000000\n",
      "50%       17.000000\n",
      "75%       22.000000\n",
      "max       48.000000\n",
      "Non-Rumor length\n"
     ]
    }
   ],
   "source": [
    "# examine the full vocabulary of covid nonrumor tweet corpus \n",
    "all_words = [word for tokens in nonrumor_common for word in tokens]\n",
    "nonrumor_tweet_lengths = [len(tokens) for tokens in nonrumor_common]\n",
    "vocab = sorted(list(set(all_words)))\n",
    "print('{} words total, with a vocabulary size of {}'.format(len(all_words), len(vocab)))\n",
    "print('Max tweet length is {}'.format(max(nonrumor_tweet_lengths)))\n",
    "# change rumor_tweet_lengths list to dataframe for analysis \n",
    "# rumor_tweet_lengths \n",
    "nonrumor_lengths = pd.DataFrame(nonrumor_tweet_lengths)\n",
    "print(nonrumor_lengths.describe())\n",
    "print(\"Non-Rumor length\")"
   ]
  },
  {
   "cell_type": "code",
   "execution_count": 112,
   "id": "e72d9cb6",
   "metadata": {},
   "outputs": [
    {
     "name": "stderr",
     "output_type": "stream",
     "text": [
      "C:\\Users\\Win10\\anaconda3\\lib\\site-packages\\seaborn\\_decorators.py:36: FutureWarning: Pass the following variable as a keyword arg: x. From version 0.12, the only valid positional argument will be `data`, and passing other arguments without an explicit keyword will result in an error or misinterpretation.\n",
      "  warnings.warn(\n"
     ]
    },
    {
     "data": {
      "image/png": "[encoded data removed]",
      "text/plain": [
       "<Figure size 1080x576 with 1 Axes>"
      ]
     },
     "metadata": {
      "needs_background": "light"
     },
     "output_type": "display_data"
    }
   ],
   "source": [
    "# bimodal distribution \n",
    "plt.figure(figsize = (15,8))\n",
    "sns.countplot(rumor_tweet_lengths)\n",
    "plt.title('Rumor Tweet Length Distribution', fontsize = 18)\n",
    "plt.xlabel('Words per Tweet', fontsize = 12)\n",
    "plt.ylabel('Number of Tweets', fontsize = 12)\n",
    "plt.show()"
   ]
  },
  {
   "cell_type": "code",
   "execution_count": 113,
   "id": "29f27a7d",
   "metadata": {},
   "outputs": [
    {
     "name": "stderr",
     "output_type": "stream",
     "text": [
      "C:\\Users\\Win10\\anaconda3\\lib\\site-packages\\seaborn\\_decorators.py:36: FutureWarning: Pass the following variable as a keyword arg: x. From version 0.12, the only valid positional argument will be `data`, and passing other arguments without an explicit keyword will result in an error or misinterpretation.\n",
      "  warnings.warn(\n"
     ]
    },
    {
     "data": {
      "image/png": "[encoded data removed]",
      "text/plain": [
       "<Figure size 1080x576 with 1 Axes>"
      ]
     },
     "metadata": {
      "needs_background": "light"
     },
     "output_type": "display_data"
    }
   ],
   "source": [
    "# Right skewed distribution \n",
    "plt.figure(figsize = (15,8))\n",
    "sns.countplot(nonrumor_tweet_lengths)\n",
    "plt.title('Non-Rumor Tweet Length Distribution', fontsize = 18)\n",
    "plt.xlabel('Words per Tweet', fontsize = 12)\n",
    "plt.ylabel('Number of Tweets', fontsize = 12)\n",
    "plt.show()"
   ]
  },
  {
   "cell_type": "markdown",
   "id": "b46ea028",
   "metadata": {},
   "source": [
    "## Popular Hashtags"
   ]
  },
  {
   "cell_type": "code",
   "execution_count": 16,
   "id": "8e3eb478",
   "metadata": {},
   "outputs": [],
   "source": [
    "def preprocess_hashtags(text):\n",
    "    new_text = []\n",
    "    text = text.replace('\\n', ' ') # replace newline with whitespace\n",
    "    for t in text.split(\" \"):\n",
    "        if t.startswith(\"#\"):\n",
    "            new_text.append(t)\n",
    "    if len(new_text) > 0:\n",
    "        return \" \".join(new_text)\n",
    "    else:\n",
    "        return\n",
    "\n",
    "rumor_hashtags = [preprocess_hashtags(x) for x in rumor_df['text']]\n",
    "nonrumor_hashtags = [preprocess_hashtags(x) for x in nonrumor_df['text']]\n",
    "\n",
    "rumor_hashtags = [i for i in rumor_hashtags if i]\n",
    "nonrumor_hashtags = [i for i in nonrumor_hashtags if i]"
   ]
  },
  {
   "cell_type": "code",
   "execution_count": 27,
   "id": "a5afceb2",
   "metadata": {},
   "outputs": [],
   "source": [
    "\n",
    "rumor_ht = list()\n",
    "nonrumor_ht = list()\n",
    "\n",
    "for t in rumor_hashtags:\n",
    "    text = list()\n",
    "    for w in tt.tokenize(t): # step1 tokenize\n",
    "        w = str.lower(w) # step2 change to lowercase\n",
    "        w = w.translate(str.maketrans('', '', string.punctuation))\n",
    "        if w == ''or w == '’':\n",
    "            break\n",
    "        if w not in stopwords:\n",
    "            if w == 'covidー19':\n",
    "                w = 'covid19'\n",
    "            text.append('#'+w)\n",
    "    rumor_ht.append(text)\n",
    "    \n",
    "for t in nonrumor_hashtags:\n",
    "    text = list()\n",
    "    for w in tt.tokenize(t): # step1 tokenize\n",
    "        w = str.lower(w) # step2 change to lowercase\n",
    "        w = w.translate(str.maketrans('', '', string.punctuation))\n",
    "        if w == '' or w =='’':\n",
    "            break\n",
    "        if w not in stopwords:\n",
    "            if w == 'covidー19':\n",
    "                w = 'covid19'\n",
    "            if w == 'covid':\n",
    "                w = 'covid19'\n",
    "            text.append('#'+w)\n",
    "    nonrumor_ht.append(text)"
   ]
  },
  {
   "cell_type": "code",
   "execution_count": 28,
   "id": "7b42c61d",
   "metadata": {},
   "outputs": [
    {
     "data": {
      "text/plain": [
       "[('#covid19', 253),\n",
       " ('#coronavirus', 173),\n",
       " ('#china', 21),\n",
       " ('#coronaviruspandemic', 9),\n",
       " ('#maga', 9),\n",
       " ('#trump', 8),\n",
       " ('#breaking', 7),\n",
       " ('#florida', 7),\n",
       " ('#foxnews', 6),\n",
       " ('#trumppressconference', 6),\n",
       " ('#blacklivesmatter', 6),\n",
       " ('#americafirst', 5),\n",
       " ('#trumpmeltdown', 5),\n",
       " ('#trumpownseverydeath', 5),\n",
       " ('#wearethecure', 5),\n",
       " ('#crushthecurve', 5),\n",
       " ('#masstesting', 5),\n",
       " ('#inthistogetherohio', 5),\n",
       " ('#trackingandtracing', 5),\n",
       " ('#covid', 5)]"
      ]
     },
     "execution_count": 28,
     "metadata": {},
     "output_type": "execute_result"
    }
   ],
   "source": [
    "#iterate through each tweet, then each token in each tweet, and store in one list\n",
    "flat_words = [item for sublist in rumor_ht for item in sublist]\n",
    "\n",
    "word_freq = FreqDist(flat_words)\n",
    "\n",
    "word_freq.most_common(20)"
   ]
  },
  {
   "cell_type": "code",
   "execution_count": 29,
   "id": "c4c59763",
   "metadata": {},
   "outputs": [
    {
     "data": {
      "image/png": "[encoded data removed]",
      "text/plain": [
       "<Figure size 720x720 with 1 Axes>"
      ]
     },
     "metadata": {
      "needs_background": "light"
     },
     "output_type": "display_data"
    }
   ],
   "source": [
    "## Creating FreqDist for whole BoW, keeping the 20 most common tokens\n",
    "all_fdist = word_freq.most_common(15)\n",
    "\n",
    "## Conversion to Pandas series via Python Dictionary for easier plotting\n",
    "all_fdist = pd.Series(dict(all_fdist))\n",
    "\n",
    "## Setting figure, ax into variables\n",
    "fig, ax = plt.subplots(figsize=(10,10))\n",
    "\n",
    "## Seaborn plotting using Pandas attributes + xtick rotation for ease of viewing\n",
    "all_plot = sns.barplot(y=all_fdist.index, x=all_fdist.values, ax=ax).set(title='Rumor Popular Hashtags')\n",
    "#plt.xticks(rotation=55);"
   ]
  },
  {
   "cell_type": "code",
   "execution_count": 30,
   "id": "c99e3e87",
   "metadata": {},
   "outputs": [
    {
     "data": {
      "text/plain": [
       "[('#covid19', 2020),\n",
       " ('#coronavirus', 872),\n",
       " ('#breaking', 91),\n",
       " ('#stayhome', 35),\n",
       " ('#cdnpoli', 32),\n",
       " ('#coronaviruspandemic', 26),\n",
       " ('#lockdown', 24),\n",
       " ('#stayhomesavelives', 21),\n",
       " ('#covid19ph', 20),\n",
       " ('#staysafe', 19),\n",
       " ('#socialdistancing', 18),\n",
       " ('#indiafightscorona', 18),\n",
       " ('#stayathome', 17),\n",
       " ('#stayalert', 16),\n",
       " ('#auspol', 15),\n",
       " ('#china', 15),\n",
       " ('#onpoli', 14),\n",
       " ('#sarscov2', 14),\n",
       " ('#watch', 13),\n",
       " ('#hydroxychloroquine', 13)]"
      ]
     },
     "execution_count": 30,
     "metadata": {},
     "output_type": "execute_result"
    }
   ],
   "source": [
    "from nltk.probability import FreqDist\n",
    "\n",
    "#iterate through each tweet, then each token in each tweet, and store in one list\n",
    "flat_words = [item for sublist in nonrumor_ht for item in sublist]\n",
    "\n",
    "word_freq = FreqDist(flat_words)\n",
    "\n",
    "word_freq.most_common(20)"
   ]
  },
  {
   "cell_type": "code",
   "execution_count": 31,
   "id": "6f1dc37a",
   "metadata": {},
   "outputs": [
    {
     "data": {
      "image/png": "[encoded data removed]",
      "text/plain": [
       "<Figure size 720x720 with 1 Axes>"
      ]
     },
     "metadata": {
      "needs_background": "light"
     },
     "output_type": "display_data"
    }
   ],
   "source": [
    "## Creating FreqDist for whole BoW, keeping the 20 most common tokens\n",
    "all_fdist = word_freq.most_common(15)\n",
    "\n",
    "## Conversion to Pandas series via Python Dictionary for easier plotting\n",
    "all_fdist = pd.Series(dict(all_fdist))\n",
    "\n",
    "## Setting figure, ax into variables\n",
    "fig, ax = plt.subplots(figsize=(10,10))\n",
    "\n",
    "## Seaborn plotting using Pandas attributes + xtick rotation for ease of viewing\n",
    "all_plot = sns.barplot(y=all_fdist.index, x=all_fdist.values, ax=ax).set(title='Non-Rumor Popular Hashtags')\n",
    "#plt.xticks(rotation=55);"
   ]
  },
  {
   "cell_type": "markdown",
   "id": "9d31f3f4",
   "metadata": {},
   "source": [
    "## Common Words"
   ]
  },
  {
   "cell_type": "code",
   "execution_count": 115,
   "id": "66668e7f",
   "metadata": {},
   "outputs": [
    {
     "data": {
      "text/plain": [
       "[('coronavirus', 2118),\n",
       " ('trump', 1312),\n",
       " ('covid', 848),\n",
       " ('say', 735),\n",
       " ('death', 706),\n",
       " ('case', 626),\n",
       " ('u', 568),\n",
       " ('new', 542),\n",
       " ('president', 500),\n",
       " ('people', 488),\n",
       " ('american', 376),\n",
       " ('test', 366),\n",
       " ('day', 317),\n",
       " ('pandemic', 310),\n",
       " ('state', 308),\n",
       " ('china', 298),\n",
       " ('report', 294),\n",
       " ('go', 286),\n",
       " ('die', 266),\n",
       " ('one', 254),\n",
       " ('get', 248),\n",
       " ('week', 233),\n",
       " ('million', 222),\n",
       " ('time', 209),\n",
       " ('call', 198),\n",
       " ('florida', 182),\n",
       " ('virus', 181),\n",
       " ('like', 175),\n",
       " ('know', 174),\n",
       " ('make', 174)]"
      ]
     },
     "execution_count": 115,
     "metadata": {},
     "output_type": "execute_result"
    }
   ],
   "source": [
    "from nltk.probability import FreqDist\n",
    "\n",
    "#iterate through each tweet, then each token in each tweet, and store in one list\n",
    "flat_words = [item for sublist in rumor_common for item in sublist]\n",
    "\n",
    "word_freq = FreqDist(flat_words)\n",
    "\n",
    "word_freq.most_common(30)\n"
   ]
  },
  {
   "cell_type": "code",
   "execution_count": null,
   "id": "2299430f",
   "metadata": {},
   "outputs": [],
   "source": [
    "#retrieve word and count from FreqDist tuples\n",
    "\n",
    "most_common_count = [x[1] for x in word_freq.most_common(30)]\n",
    "most_common_word = [x[0] for x in word_freq.most_common(30)]\n",
    "\n",
    "#create dictionary mapping of word count\n",
    "top_30_dictionary = dict(zip(most_common_word, most_common_count))\n",
    "#Create Word Cloud of top 30 words\n",
    "wordcloud = WordCloud(colormap = 'Accent', background_color = 'black')\\\n",
    ".generate_from_frequencies(top_30_dictionary)\n",
    "\n",
    "#plot with matplotlib\n",
    "plt.figure(figsize=(12, 8))\n",
    "plt.imshow(wordcloud, interpolation='bilinear')\n",
    "plt.axis(\"off\")\n",
    "plt.tight_layout(pad=0)\n",
    "plt.savefig('top_30_cloud.png')\n",
    "\n",
    "print(\"Rumor WordCloud\")\n",
    "plt.show()"
   ]
  },
  {
   "cell_type": "code",
   "execution_count": 116,
   "id": "e99b4eff",
   "metadata": {},
   "outputs": [
    {
     "data": {
      "text/plain": [
       "[('coronavirus', 4274),\n",
       " ('covid', 3260),\n",
       " ('test', 1773),\n",
       " ('say', 1496),\n",
       " ('case', 1471),\n",
       " ('new', 1361),\n",
       " ('people', 1233),\n",
       " ('u', 1065),\n",
       " ('pandemic', 1013),\n",
       " ('state', 864),\n",
       " ('health', 844),\n",
       " ('day', 812),\n",
       " ('death', 808),\n",
       " ('trump', 775),\n",
       " ('get', 768),\n",
       " ('positive', 748),\n",
       " ('go', 725),\n",
       " ('one', 698),\n",
       " ('today', 655),\n",
       " ('report', 634),\n",
       " ('take', 633),\n",
       " ('time', 602),\n",
       " ('need', 598),\n",
       " ('president', 590),\n",
       " ('country', 588),\n",
       " ('die', 587),\n",
       " ('work', 583),\n",
       " ('mask', 570),\n",
       " ('make', 546),\n",
       " ('break', 546)]"
      ]
     },
     "execution_count": 116,
     "metadata": {},
     "output_type": "execute_result"
    }
   ],
   "source": [
    "#iterate through each tweet, then each token in each tweet, and store in one list\n",
    "flat_words = [item for sublist in nonrumor_common for item in sublist]\n",
    "\n",
    "word_freq = FreqDist(flat_words)\n",
    "\n",
    "word_freq.most_common(30)\n",
    "\n"
   ]
  },
  {
   "cell_type": "code",
   "execution_count": null,
   "id": "9c2f84e1",
   "metadata": {},
   "outputs": [],
   "source": [
    "#retrieve word and count from FreqDist tuples\n",
    "\n",
    "most_common_count = [x[1] for x in word_freq.most_common(30)]\n",
    "most_common_word = [x[0] for x in word_freq.most_common(30)]\n",
    "\n",
    "#create dictionary mapping of word count\n",
    "top_30_dictionary = dict(zip(most_common_word, most_common_count))\n",
    "\n",
    "#Create Word Cloud of top 30 words\n",
    "wordcloud = WordCloud(colormap = 'Accent', background_color = 'black')\\\n",
    ".generate_from_frequencies(top_30_dictionary)\n",
    "\n",
    "#plot with matplotlib\n",
    "plt.figure(figsize=(12, 8))\n",
    "plt.imshow(wordcloud, interpolation='bilinear')\n",
    "plt.axis(\"off\")\n",
    "plt.tight_layout(pad=0)\n",
    "plt.savefig('top_30_cloud.png')\n",
    "print(\"Non-Rumor WordCloud\")\n",
    "plt.show()"
   ]
  }
 ],
 "metadata": {
  "kernelspec": {
   "display_name": "Python 3 (ipykernel)",
   "language": "python",
   "name": "python3"
  },
  "language_info": {
   "codemirror_mode": {
    "name": "ipython",
    "version": 3
   },
   "file_extension": ".py",
   "mimetype": "text/x-python",
   "name": "python",
   "nbconvert_exporter": "python",
   "pygments_lexer": "ipython3",
   "version": "3.9.7"
  }
 },
 "nbformat": 4,
 "nbformat_minor": 5
}
